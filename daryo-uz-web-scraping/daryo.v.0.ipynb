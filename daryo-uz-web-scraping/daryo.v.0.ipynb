{
 "cells": [
  {
   "cell_type": "code",
   "execution_count": 6,
   "id": "58f1cae2",
   "metadata": {},
   "outputs": [],
   "source": [
    "from bs4 import BeautifulSoup\n",
    "import requests\n",
    "import time\n",
    "from datetime import datetime, timedelta\n",
    "import csv\n",
    "import re"
   ]
  },
  {
   "cell_type": "code",
   "execution_count": 7,
   "id": "68ad9ff9",
   "metadata": {},
   "outputs": [
    {
     "ename": "NameError",
     "evalue": "name 'started_at' is not defined",
     "output_type": "error",
     "traceback": [
      "\u001b[1;31m---------------------------------------------------------------------------\u001b[0m",
      "\u001b[1;31mNameError\u001b[0m                                 Traceback (most recent call last)",
      "Cell \u001b[1;32mIn[7], line 53\u001b[0m\n\u001b[0;32m     50\u001b[0m     page(big_url)\n\u001b[0;32m     52\u001b[0m finished_at \u001b[38;5;241m=\u001b[39m datetime\u001b[38;5;241m.\u001b[39mnow()\n\u001b[1;32m---> 53\u001b[0m \u001b[38;5;28mprint\u001b[39m(finished_at\u001b[38;5;241m-\u001b[39m\u001b[43mstarted_at\u001b[49m) \n",
      "\u001b[1;31mNameError\u001b[0m: name 'started_at' is not defined"
     ]
    }
   ],
   "source": [
    "started_at = datetime.now()\n",
    "name = 'layfstayl.v.0'\n",
    "big_url = \"https://daryo.uz/category/layfstayl\"\n",
    "#https://daryo.uz/category/maqolalar/?page=48&per-page=10  \n",
    "header = ['title', 'content', 'time']\n",
    "\n",
    "url_ignore = \"https://daryo.uz/2021/11/02/aktyor-uill-smit-ortiqcha-vazndan-qanday-xalos-bolgani-haqidagi-6-qismli-hujjatli-serialni-suratga-oldi/\"\n",
    "html_text_ignore = requests.get(url_ignore).text \n",
    "soup_ignore = BeautifulSoup(html_text_ignore, 'lxml') \n",
    "content_ignore = soup_ignore.find(\"div\", class_=\"default__section border\").findAll('p') \n",
    "k = content_ignore\n",
    "\n",
    "def page(big_url):\n",
    "    for i in range(0, 500):\n",
    "        response = requests.get(f\"{big_url}?page={i}&per-page=10\", headers={\n",
    "                \"x-requested-with\": \"XMLHttpRequest\"\n",
    "        })\n",
    "        html_text = response.text\n",
    "        soup = BeautifulSoup(html_text, 'lxml')\n",
    "        news = soup.find_all('a', class_=\"mini__article-link\")\n",
    "\n",
    "        if(news):\n",
    "            for new in news:\n",
    "                url = f\"https://daryo.uz{new['href']}\"\n",
    "                script(url)\n",
    "                #time.sleep(1)\n",
    "        else:\n",
    "            break \n",
    "def script(url): \n",
    "    html_text = requests.get(url).text\n",
    "    soup = BeautifulSoup(html_text, 'lxml')\n",
    "        \n",
    "    match = re.search(r'\\d{4}/\\d{2}/\\d{2}', url)\n",
    "    extracted_date = match.group()\n",
    "    \n",
    "    try:\n",
    "        title = soup.find('b').text\n",
    "        contents = soup.find(\"div\", class_=\"default__section border\").findAll('p')\n",
    "        c = ''\n",
    "        for content in contents:\n",
    "            c+=content.text\n",
    "            \n",
    "        writer.writerow([title, c, extracted_date]) \n",
    "    except AttributeError:\n",
    "        url = 'https://daryo.uz/2021/11/02/aktyor-uill-smit-ortiqcha-vazndan-qanday-xalos-bolgani-haqidagi-6-qismli-hujjatli-serialni-suratga-oldi/'\n",
    "        contents = k\n",
    "            \n",
    "with open(f\"{name}.csv\", 'a', newline='', encoding='utf-8') as f:\n",
    "    writer = csv.writer(f)\n",
    "    writer.writerow(header)\n",
    "    page(big_url)\n",
    "        \n",
    "finished_at = datetime.now()\n",
    "print(finished_at-started_at) "
   ]
  },
  {
   "cell_type": "code",
   "execution_count": null,
   "id": "3a18ff27",
   "metadata": {},
   "outputs": [],
   "source": [
    "# layfstayl == 2265 pages \n",
    "# "
   ]
  },
  {
   "cell_type": "code",
   "execution_count": null,
   "id": "99bded9e",
   "metadata": {},
   "outputs": [],
   "source": []
  }
 ],
 "metadata": {
  "kernelspec": {
   "display_name": "tf",
   "language": "python",
   "name": "tf"
  },
  "language_info": {
   "codemirror_mode": {
    "name": "ipython",
    "version": 3
   },
   "file_extension": ".py",
   "mimetype": "text/x-python",
   "name": "python",
   "nbconvert_exporter": "python",
   "pygments_lexer": "ipython3",
   "version": "3.9.13"
  }
 },
 "nbformat": 4,
 "nbformat_minor": 5
}
