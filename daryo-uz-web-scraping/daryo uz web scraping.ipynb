{
 "cells": [
  {
   "cell_type": "code",
   "execution_count": null,
   "id": "7ab79a29",
   "metadata": {},
   "outputs": [],
   "source": [
    "from bs4 import BeautifulSoup\n",
    "import requests\n",
    "url = \"https://daryo.uz/2021/11/02/aktyor-uill-smit-ortiqcha-vazndan-qanday-xalos-bolgani-haqidagi-6-qismli-hujjatli-serialni-suratga-oldi/\"\n",
    "html_text1 = requests.get(url).text \n",
    "soup1 = BeautifulSoup(html_text1, 'lxml') \n",
    "title1 = soup1.find('b').text\n",
    "contents = soup1.find(\"div\", class_=\"default__section border\").findAll('p') \n",
    "k = contents"
   ]
  },
  {
   "cell_type": "code",
   "execution_count": null,
   "id": "8cad0aa8",
   "metadata": {},
   "outputs": [],
   "source": [
    "from bs4 import BeautifulSoup\n",
    "import requests\n",
    "import time\n",
    "from datetime import datetime, timedelta\n",
    "started_at = datetime.now()\n",
    "import csv\n",
    "\n",
    "#big_url = input('Linkni kiriting>>> ')\n",
    "#n = int(input('Nechta sahifani olishni xohlaysiz?(har bir sahifada 10 ta yangilik bor)>>>'))\n",
    "name = input('Dataframega nom bering:>>>')\n",
    "big_url = \"https://daryo.uz/category/layfstayl\"\n",
    "#https://daryo.uz/category/maqolalar/?page=48&per-page=10  \n",
    "header = ['title', 'content']\n",
    "def page(big_url):\n",
    "    for i in range(283,2120):\n",
    "        response = requests.get(f\"{big_url}?page={i}&per-page=10\", headers={\n",
    "                \"x-requested-with\": \"XMLHttpRequest\"\n",
    "        })\n",
    "        html_text = response.text\n",
    "        soup = BeautifulSoup(html_text, 'lxml')\n",
    "        news = soup.find_all('a', class_=\"mini__article-link\")\n",
    "\n",
    "        if(news):\n",
    "            for new in news:\n",
    "                url = f\"https://daryo.uz{new['href']}\"\n",
    "                script(url)\n",
    "                #time.sleep(1)\n",
    "        else:\n",
    "            break \n",
    "def script(url): \n",
    "    html_text = requests.get(url).text\n",
    "    soup = BeautifulSoup(html_text, 'lxml')\n",
    "    \n",
    "    try:\n",
    "        title = soup.find('b').text\n",
    "        contents = soup.find(\"div\", class_=\"default__section border\").findAll('p')\n",
    "        c = ''\n",
    "        for content in contents:\n",
    "            c+=content.text\n",
    "        writer.writerow([title, c]) \n",
    "    except AttributeError:\n",
    "        url = 'https://daryo.uz/2021/11/02/aktyor-uill-smit-ortiqcha-vazndan-qanday-xalos-bolgani-haqidagi-6-qismli-hujjatli-serialni-suratga-oldi/'\n",
    "        contents = k\n",
    "            \n",
    "with open(f\"{name}.csv\", 'a', newline='', encoding='utf-8') as f:\n",
    "    writer = csv.writer(f)\n",
    "    writer.writerow(header)\n",
    "    page(big_url)\n",
    "        \n",
    "finished_at = datetime.now()\n",
    "print(finished_at-started_at)  "
   ]
  }
 ],
 "metadata": {
  "kernelspec": {
   "display_name": "datascience",
   "language": "python",
   "name": "datascience"
  },
  "language_info": {
   "codemirror_mode": {
    "name": "ipython",
    "version": 3
   },
   "file_extension": ".py",
   "mimetype": "text/x-python",
   "name": "python",
   "nbconvert_exporter": "python",
   "pygments_lexer": "ipython3",
   "version": "3.10.4"
  }
 },
 "nbformat": 4,
 "nbformat_minor": 5
}
