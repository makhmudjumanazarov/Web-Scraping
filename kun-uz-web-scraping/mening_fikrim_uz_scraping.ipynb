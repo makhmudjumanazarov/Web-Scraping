{
 "cells": [
  {
   "cell_type": "code",
   "execution_count": 150,
   "id": "4c8081fb",
   "metadata": {},
   "outputs": [
    {
     "name": "stdout",
     "output_type": "stream",
     "text": [
      "Dataframega nom bering:>>>barchasi\n"
     ]
    }
   ],
   "source": [
    "from bs4 import BeautifulSoup\n",
    "import requests\n",
    "import time\n",
    "from datetime import datetime, timedelta\n",
    "started_at = datetime.now()\n",
    "import csv\n",
    "\n",
    "#big_url = input('Linkni kiriting>>> ')\n",
    "#n = int(input('Nechta sahifani olishni xohlaysiz?(har bir sahifada 10 ta yangilik bor)>>>'))\n",
    "name = input('Dataframega nom bering:>>>')\n",
    "big_url = \"https://meningfikrim.uz/uz/petitions/index\"\n",
    "#https://daryo.uz/category/maqolalar/?page=48&per-page=10  \n",
    "header = ['title', 'content']\n",
    "def page(big_url):\n",
    "    for i in range(2):\n",
    "        response = requests.get(f\"{big_url}?page={i}\")\n",
    "        #         https://meningfikrim.uz/uz/petitions/expired?page=7\n",
    "        html_text = response.text\n",
    "        soup = BeautifulSoup(html_text, 'lxml')\n",
    "        news = soup.find_all('a', class_ = 'boxLink')\n",
    "\n",
    "        if(news):\n",
    "            for new in news:\n",
    "                url = f\"https://meningfikrim.uz{new['href']}\"\n",
    "                script(url)\n",
    "                #time.sleep(1)\n",
    "        else:\n",
    "            break\n",
    "            \n",
    "def script(url): \n",
    "    html_text = requests.get(url).text\n",
    "    soup = BeautifulSoup(html_text, 'lxml')\n",
    "    \n",
    "    title = soup.find('div', class_ ='mainTitle').text\n",
    "    contents = soup.find('div', class_ = 'offerDescriptionBox').text\n",
    "    writer.writerow([title, contents]) \n",
    "        \n",
    "with open(f\"{name}.csv\", 'a', newline='', encoding='utf-8') as f:\n",
    "    writer = csv.writer(f)\n",
    "    writer.writerow(header)\n",
    "    page(big_url)\n",
    "        \n",
    "finished_at = datetime.now()\n",
    "# print(finished_at-started_at)  "
   ]
  },
  {
   "cell_type": "code",
   "execution_count": 138,
   "id": "ddf4db3e",
   "metadata": {},
   "outputs": [],
   "source": [
    "import pandas as pd"
   ]
  },
  {
   "cell_type": "code",
   "execution_count": 204,
   "id": "dc59cd9c",
   "metadata": {},
   "outputs": [],
   "source": [
    "data = pd.read_csv('total.csv')"
   ]
  },
  {
   "cell_type": "code",
   "execution_count": null,
   "id": "351f3701",
   "metadata": {},
   "outputs": [],
   "source": []
  }
 ],
 "metadata": {
  "kernelspec": {
   "display_name": "hac",
   "language": "python",
   "name": "hac"
  },
  "language_info": {
   "codemirror_mode": {
    "name": "ipython",
    "version": 3
   },
   "file_extension": ".py",
   "mimetype": "text/x-python",
   "name": "python",
   "nbconvert_exporter": "python",
   "pygments_lexer": "ipython3",
   "version": "3.9.13"
  }
 },
 "nbformat": 4,
 "nbformat_minor": 5
}
