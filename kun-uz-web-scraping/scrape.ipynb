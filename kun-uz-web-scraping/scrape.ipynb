{
 "cells": [
  {
   "cell_type": "code",
   "execution_count": 1,
   "id": "e8a6da2c",
   "metadata": {},
   "outputs": [],
   "source": [
    "import pandas as pd "
   ]
  },
  {
   "cell_type": "code",
   "execution_count": 66,
   "id": "184e9fba",
   "metadata": {},
   "outputs": [],
   "source": [
    "df = pd.read_excel('olx_2(4).xlsx') "
   ]
  },
  {
   "cell_type": "code",
   "execution_count": 67,
   "id": "51fd469a",
   "metadata": {},
   "outputs": [
    {
     "data": {
      "text/plain": [
       "Index(['web-scraper-order', 'web-scraper-start-url', 'linklar', 'linklar-href',\n",
       "       'information', 'description', 'cost'],\n",
       "      dtype='object')"
      ]
     },
     "execution_count": 67,
     "metadata": {},
     "output_type": "execute_result"
    }
   ],
   "source": [
    "df.columns"
   ]
  },
  {
   "cell_type": "code",
   "execution_count": 73,
   "id": "61886334",
   "metadata": {},
   "outputs": [],
   "source": [
    "df[['Xonalar', 'Umumiy maydoni', 'Yashash maydoni',\n",
    "       'Oshxona maydoni', 'Etaj', 'Max etaj', 'Qurilish turi', 'Rejasi',\n",
    "       'Sanuzel', 'Mebel', 'Remont', 'Internet', 'Telefon', 'Televizor',\n",
    "       'Muzlatgich', 'Konditsioner', 'Kabelli TV', 'Kir mashina', 'Oshxona',\n",
    "       'Shifoxona', 'Poliklinika', 'Bolalar maydonchasi', 'Bolalar bogchasi',\n",
    "       'Bekat', 'Park', 'Kongilochar joy', 'Yashil maydon', 'Restoran', 'Kafe',\n",
    "       'Avtoturargoh', 'Bozor', 'Supermarket', 'Dukon', 'Maktab', 'Metro']]  = ''"
   ]
  },
  {
   "cell_type": "code",
   "execution_count": 156,
   "id": "d1b5c945",
   "metadata": {},
   "outputs": [],
   "source": [
    "df1 = df.copy()"
   ]
  },
  {
   "cell_type": "code",
   "execution_count": 157,
   "id": "ed34497b",
   "metadata": {},
   "outputs": [],
   "source": [
    "import re"
   ]
  },
  {
   "cell_type": "code",
   "execution_count": 158,
   "id": "1b23d4cc",
   "metadata": {},
   "outputs": [
    {
     "data": {
      "text/plain": [
       "'BiznesXonalar soni: 3 Umumiy maydon: 90 m²Qavati: 6 Uy qavatliligi: 8 Qurilish turi: GʻishtliRejasi: Alohida ajratilganQurilgan yili: 2016Sanuzel: 2 va undan koʻp sanuzelMebelli: HaShiftining balandligi: 3.30Kvartirada bor: Internet, Telefon, Muzlatkich, Televizor, Konditsioner, Kabelli TV, Kir yuvish mashinasi, Oshxona, BalkonYaqinida joylashgan: Kasalxona, poliklinika, Bolalar maydonchasi, Bolalar bogʻchasi, Bekatlar, Park, yashil zona, Koʻngilochar muassasalar, Restoran, kafelar, turargoh, Supermarket, doʻkonlar, MaktabTaʼmiri: Mualliflik loyihasiVositachilik haqqi: Bor'"
      ]
     },
     "execution_count": 158,
     "metadata": {},
     "output_type": "execute_result"
    }
   ],
   "source": [
    "df1['information'][0]"
   ]
  },
  {
   "cell_type": "code",
   "execution_count": 159,
   "id": "5d0bb455",
   "metadata": {},
   "outputs": [],
   "source": [
    "text = df1['information'].map(lambda x: str(x))\n",
    "df1['Internet'] = text.map(lambda x: 1 if (\"Internet\" or \"internet\") in x else 0)"
   ]
  },
  {
   "cell_type": "code",
   "execution_count": 160,
   "id": "b6ec6fd3",
   "metadata": {},
   "outputs": [],
   "source": [
    "text = df1['information'].map(lambda x: str(x))\n",
    "df1['Telefon'] = text.map(lambda x: 1 if (\"Telefon\" or \"telefon\") in x else 0)"
   ]
  },
  {
   "cell_type": "code",
   "execution_count": 161,
   "id": "3b55def1",
   "metadata": {},
   "outputs": [],
   "source": [
    "text = df1['information'].map(lambda x: str(x))\n",
    "df1['Televizor'] = text.map(lambda x: 1 if (\"Televizor\" or \"televizor\") in x else 0)"
   ]
  },
  {
   "cell_type": "code",
   "execution_count": 162,
   "id": "78a1af22",
   "metadata": {},
   "outputs": [],
   "source": [
    "text = df1['information'].map(lambda x: str(x))\n",
    "df1['Muzlatgich'] = text.map(lambda x: 1 if (\"Muzlatgich\" or \"Muzlatgich\") in x else 0)"
   ]
  },
  {
   "cell_type": "code",
   "execution_count": 163,
   "id": "627e6b81",
   "metadata": {},
   "outputs": [],
   "source": [
    "text = df1['information'].map(lambda x: str(x))\n",
    "df1['Konditsioner'] = text.map(lambda x: 1 if (\"Konditsioner\" or \"Konditsioner\") in x else 0)"
   ]
  },
  {
   "cell_type": "code",
   "execution_count": 164,
   "id": "c1070f52",
   "metadata": {},
   "outputs": [],
   "source": [
    "text = df1['information'].map(lambda x: str(x))\n",
    "df1['Kabelli TV'] = text.map(lambda x: 1 if ('Kabelli TV' or 'kabelli TV') in x else 0)"
   ]
  },
  {
   "cell_type": "code",
   "execution_count": 165,
   "id": "e0c4b0fa",
   "metadata": {},
   "outputs": [],
   "source": [
    "text = df1['information'].map(lambda x: str(x))\n",
    "df1['Kir mashina'] = text.map(lambda x: 1 if ('Kir mashina' or 'kir mashina') in x else 0)"
   ]
  },
  {
   "cell_type": "code",
   "execution_count": 166,
   "id": "5ac37def",
   "metadata": {},
   "outputs": [],
   "source": [
    "text = df1['information'].map(lambda x: str(x))\n",
    "df1['Oshxona'] = text.map(lambda x: 1 if ('Oshxona' or 'oshxona') in x else 0)"
   ]
  },
  {
   "cell_type": "code",
   "execution_count": 167,
   "id": "e92afaa0",
   "metadata": {},
   "outputs": [],
   "source": [
    "text = df1['information'].map(lambda x: str(x))\n",
    "df1['Shifoxona'] = text.map(lambda x: 1 if ('Shifoxona' or 'shifoxona') in x else 0)"
   ]
  },
  {
   "cell_type": "code",
   "execution_count": 168,
   "id": "8781abaf",
   "metadata": {},
   "outputs": [],
   "source": [
    "text = df1['information'].map(lambda x: str(x))\n",
    "df1['Poliklinika'] = text.map(lambda x: 1 if ('Poliklinika' or 'poliklinika') in x else 0)"
   ]
  },
  {
   "cell_type": "code",
   "execution_count": 169,
   "id": "78fdbce4",
   "metadata": {},
   "outputs": [],
   "source": [
    "text = df1['information'].map(lambda x: str(x))\n",
    "df1['Bolalar maydonchasi'] = text.map(lambda x: 1 if ('Bolalar maydonchasi' or 'bolalar maydonchasi') in x else 0)"
   ]
  },
  {
   "cell_type": "code",
   "execution_count": 170,
   "id": "0ec14782",
   "metadata": {},
   "outputs": [],
   "source": [
    "text = df1['information'].map(lambda x: str(x))\n",
    "df1['Bekat'] = text.map(lambda x: 1 if ('Bekat' or 'bekat') in x else 0)"
   ]
  },
  {
   "cell_type": "code",
   "execution_count": 171,
   "id": "1a1730e9",
   "metadata": {},
   "outputs": [],
   "source": [
    "text = df1['information'].map(lambda x: str(x))\n",
    "df1['Park'] = text.map(lambda x: 1 if ('Park' or 'park') in x else 0)"
   ]
  },
  {
   "cell_type": "code",
   "execution_count": 172,
   "id": "950621bb",
   "metadata": {},
   "outputs": [],
   "source": [
    "text = df1['information'].map(lambda x: str(x))\n",
    "df1['Restoran'] = text.map(lambda x: 1 if ('Restoran' or 'restoran') in x else 0)"
   ]
  },
  {
   "cell_type": "code",
   "execution_count": 173,
   "id": "7c6b3f99",
   "metadata": {},
   "outputs": [],
   "source": [
    "text = df1['information'].map(lambda x: str(x))\n",
    "df1['Kafe'] = text.map(lambda x: 1 if ('Kafe' or 'kafe') in x else 0)"
   ]
  },
  {
   "cell_type": "code",
   "execution_count": 174,
   "id": "928d7964",
   "metadata": {},
   "outputs": [],
   "source": [
    "text = df1['information'].map(lambda x: str(x))\n",
    "df1['Yashil maydon'] = text.map(lambda x: 1 if ('Yashil maydon' or 'yashil maydon') in x else 0)"
   ]
  },
  {
   "cell_type": "code",
   "execution_count": 175,
   "id": "8986e37d",
   "metadata": {},
   "outputs": [],
   "source": [
    "text = df1['information'].map(lambda x: str(x))\n",
    "df1['Bozor'] = text.map(lambda x: 1 if ('Bozor' or 'bozor') in x else 0)"
   ]
  },
  {
   "cell_type": "code",
   "execution_count": 176,
   "id": "fbaa439a",
   "metadata": {},
   "outputs": [],
   "source": [
    "text = df1['information'].map(lambda x: str(x))\n",
    "df1['Supermarket'] = text.map(lambda x: 1 if ('Supermarket' or 'supermarket') in x else 0)"
   ]
  },
  {
   "cell_type": "code",
   "execution_count": 177,
   "id": "1a5f78f6",
   "metadata": {},
   "outputs": [],
   "source": [
    "text = df1['information'].map(lambda x: str(x))\n",
    "df1['Avtoturargoh'] = text.map(lambda x: 1 if ('Avtoturargoh' or 'avtoturargoh') in x else 0)"
   ]
  },
  {
   "cell_type": "code",
   "execution_count": 178,
   "id": "a0a88613",
   "metadata": {},
   "outputs": [],
   "source": [
    "text = df1['information'].map(lambda x: str(x))\n",
    "df1['Maktab'] = text.map(lambda x: 1 if ('Maktab' or 'maktab') in x else 0)"
   ]
  },
  {
   "cell_type": "code",
   "execution_count": 179,
   "id": "8cb84e3d",
   "metadata": {},
   "outputs": [],
   "source": [
    "text = df1['information'].map(lambda x: str(x))\n",
    "df1['Metro'] = text.map(lambda x: 1 if ('Metro' or 'metro') in x else 0)"
   ]
  },
  {
   "cell_type": "code",
   "execution_count": 180,
   "id": "55ef6f31",
   "metadata": {},
   "outputs": [],
   "source": [
    "text = df1['information'].map(lambda x: str(x))\n",
    "df1['Dukon'] = text.map(lambda x: 1 if ('Dukon' or 'dukon' or 'doʻkonlar' or 'doʻkon' or 'Doʻkon' or 'Doʻkonlar' or 'dokon') in x else 0)"
   ]
  },
  {
   "cell_type": "code",
   "execution_count": 181,
   "id": "d277530d",
   "metadata": {},
   "outputs": [],
   "source": [
    "text = df1['information'].map(lambda x: str(x))\n",
    "df1['Bolalar bogchasi'] = text.map(lambda x: 1 if ('Bolalar bogchasi' or 'Bolalar bogʻchasi') in x else 0)"
   ]
  },
  {
   "cell_type": "code",
   "execution_count": 182,
   "id": "86b4ad09",
   "metadata": {},
   "outputs": [],
   "source": [
    "text = df1['information'].map(lambda x: str(x))\n",
    "df1['Kongilochar joy'] = text.map(lambda x: 1 if ('Koʻngilochar joy' or 'Kongilochar joy' or 'koʻngilochar joy' or 'kongilochar joy') in x else 0)"
   ]
  },
  {
   "cell_type": "code",
   "execution_count": 191,
   "id": "9514ce96",
   "metadata": {},
   "outputs": [],
   "source": [
    "df2 = df1.copy()"
   ]
  },
  {
   "cell_type": "code",
   "execution_count": 212,
   "id": "3bdfc0a6",
   "metadata": {},
   "outputs": [],
   "source": [
    "df2[\"Xonalar\"] = df2[\"information\"].astype(str).map(lambda x: re.search(r\"Xonalar soni: (\\d+)\", x))\n",
    "df2[\"Xonalar\"] = df2[\"Xonalar\"].apply(lambda x: x.group(1) if x else None)"
   ]
  },
  {
   "cell_type": "code",
   "execution_count": 268,
   "id": "ff67a0db",
   "metadata": {},
   "outputs": [],
   "source": [
    "df2[\"Turar joyi\"] = df2[\"information\"].astype(str).map(lambda x: re.search(r\"Turarjoy turi: (.*?)Xonalar\", x))\n",
    "df2[\"Turar joyi\"] = df2[\"Turar joyi\"].apply(lambda x: x.group(1) if x else None)"
   ]
  },
  {
   "cell_type": "code",
   "execution_count": 217,
   "id": "3577cbe1",
   "metadata": {},
   "outputs": [],
   "source": [
    "df2[\"Umumiy maydoni\"] = df2[\"information\"].astype(str).map(lambda x: re.search(r\"(Umumiy maydon:) (\\d+)\", x))\n",
    "df2[\"Umumiy maydoni\"] = df2[\"Umumiy maydoni\"].apply(lambda x: x.group(2) if x else None)"
   ]
  },
  {
   "cell_type": "code",
   "execution_count": 235,
   "id": "e4fddda3",
   "metadata": {},
   "outputs": [],
   "source": [
    "df2[\"Etaj\"] = df2[\"information\"].astype(str).map(lambda x: re.search(r\"Qavati: (\\d+)\", x))\n",
    "df2[\"Etaj\"] = df2[\"Etaj\"].apply(lambda x: x.group(1) if x else None)"
   ]
  },
  {
   "cell_type": "code",
   "execution_count": 238,
   "id": "7eccf759",
   "metadata": {},
   "outputs": [],
   "source": [
    "df2[\"Max etaj\"] = df2[\"information\"].astype(str).map(lambda x: re.search(r\"Uy qavatliligi: (\\d+)\", x))\n",
    "df2[\"Max etaj\"] = df2[\"Max etaj\"].apply(lambda x: x.group(1) if x else None)"
   ]
  },
  {
   "cell_type": "code",
   "execution_count": 244,
   "id": "a8238602",
   "metadata": {},
   "outputs": [],
   "source": [
    "df2[\"Sanuzel\"] = df2[\"information\"].astype(str).map(lambda x: re.search(r\"Sanuzel: (\\d+)\", x))\n",
    "df2[\"Sanuzel\"] = df2[\"Sanuzel\"].apply(lambda x: x.group(1) if x else None)"
   ]
  },
  {
   "cell_type": "code",
   "execution_count": 250,
   "id": "00ec4825",
   "metadata": {},
   "outputs": [],
   "source": [
    "df2[\"Yashash maydoni\"] = df2[\"information\"].astype(str).map(lambda x: re.search(r\"Yashash maydoni: (\\d+)\", x))\n",
    "df2[\"Yashash maydoni\"] = df2[\"Yashash maydoni\"].apply(lambda x: x.group(1) if x else None)"
   ]
  },
  {
   "cell_type": "code",
   "execution_count": 253,
   "id": "96082521",
   "metadata": {},
   "outputs": [],
   "source": [
    "df2[\"Oshxona maydoni\"] = df2[\"information\"].astype(str).map(lambda x: re.search(r\"Oshxona maydoni: (\\d+)\", x))\n",
    "df2[\"Oshxona maydoni\"] = df2[\"Oshxona maydoni\"].apply(lambda x: x.group(1) if x else None)"
   ]
  },
  {
   "cell_type": "code",
   "execution_count": 256,
   "id": "d0e63548",
   "metadata": {},
   "outputs": [],
   "source": [
    "df2[\"Mebel\"] = df2[\"information\"].astype(str).map(lambda x: re.search(r\"Mebelli: ([A-Z][a-z]*)\", x))\n",
    "df2[\"Mebel\"] = df2[\"Mebel\"].apply(lambda x: x.group(1) if x else None)"
   ]
  },
  {
   "cell_type": "code",
   "execution_count": 259,
   "id": "723ee7aa",
   "metadata": {},
   "outputs": [],
   "source": [
    "df2[\"Rejasi\"] = df2[\"information\"].astype(str).map(lambda x: re.search(r\"Rejasi: ([A-Z][a-z]+ [a-z]+)(?=[A-Z])\", x))\n",
    "df2[\"Rejasi\"] = df2[\"Rejasi\"].apply(lambda x: x.group(1) if x else None)"
   ]
  },
  {
   "cell_type": "code",
   "execution_count": 273,
   "id": "2c0f7801",
   "metadata": {},
   "outputs": [],
   "source": [
    "df2[\"Qurilish turi\"] = df2[\"information\"].astype(str).map(lambda x: re.search(r\"Qurilish turi: ([A-Z][a-z]*)\", x))\n",
    "df2[\"Qurilish turi\"] = df2[\"Qurilish turi\"].apply(lambda x: x.group(1) if x else None)"
   ]
  },
  {
   "cell_type": "code",
   "execution_count": 262,
   "id": "19a6564b",
   "metadata": {},
   "outputs": [
    {
     "data": {
      "text/plain": [
       "Alohida ajratilgan    582\n",
       "Name: Rejasi, dtype: int64"
      ]
     },
     "execution_count": 262,
     "metadata": {},
     "output_type": "execute_result"
    }
   ],
   "source": [
    "df2[\"Rejasi\"].value_counts()"
   ]
  },
  {
   "cell_type": "code",
   "execution_count": 280,
   "id": "85ecca3a",
   "metadata": {},
   "outputs": [],
   "source": [
    "df2.drop(['Xususiy biznes', 'Remont'], axis =1, inplace = True)"
   ]
  },
  {
   "cell_type": "code",
   "execution_count": 283,
   "id": "8c015764",
   "metadata": {},
   "outputs": [],
   "source": [
    "df2.to_csv('olx.csv')"
   ]
  },
  {
   "cell_type": "code",
   "execution_count": 1,
   "id": "3939caec",
   "metadata": {},
   "outputs": [],
   "source": [
    "import pandas as pd \n",
    "import json\n",
    "import re"
   ]
  },
  {
   "cell_type": "code",
   "execution_count": 121,
   "id": "cfd30648",
   "metadata": {},
   "outputs": [],
   "source": [
    "df = pd.read_csv('uybor_uz.csv')"
   ]
  },
  {
   "cell_type": "code",
   "execution_count": 122,
   "id": "90d76c5a",
   "metadata": {},
   "outputs": [],
   "source": [
    "df.drop(['web-scraper-order', 'web-scraper-start-url', 'linklar-href'], axis = 1, inplace = True)"
   ]
  },
  {
   "cell_type": "code",
   "execution_count": 123,
   "id": "8e3649b5",
   "metadata": {},
   "outputs": [],
   "source": [
    "df[['Xonalar','Xonalarga ajratilmagan',  'Qavat', 'Jami qavatlar', 'Maydoni', 'Yashash maydoni', 'м² uchun narxi', 'Holati',\n",
    "   'Bino asosi', ]] = ''"
   ]
  },
  {
   "cell_type": "code",
   "execution_count": 124,
   "id": "3cedbf36",
   "metadata": {},
   "outputs": [],
   "source": [
    "for i in range(len(df['infomation'])):\n",
    "    dict_list = json.loads(df['infomation'][i])\n",
    "    result = [d['infomation'].split(':')[0] for d in dict_list]\n",
    "    df['infomation'][i] = result    "
   ]
  },
  {
   "cell_type": "code",
   "execution_count": 125,
   "id": "b77c4f94",
   "metadata": {},
   "outputs": [
    {
     "name": "stdout",
     "output_type": "stream",
     "text": [
      "['Xonalar', '3', 'Xonalarga ajratilmagan', 'Yoʻq', 'Qavat', '8', 'Jami qavatlar', '9', 'Maydoni', '75 m²', 'Holati', 'Oʻrtacha', 'Narxi', '88 000 sh.b.', 'м² uchun narxi', '1 173.33 sh.b. / m²']\n"
     ]
    }
   ],
   "source": [
    "print(df['infomation'][25])"
   ]
  },
  {
   "cell_type": "code",
   "execution_count": 126,
   "id": "932a4494",
   "metadata": {},
   "outputs": [],
   "source": [
    "df[\"Xonalar\"] = df[\"infomation\"].astype(str).map(lambda x: re.search(r\"'Xonalar', '(\\d+)'\", x))\n",
    "df[\"Xonalar\"] = df[\"Xonalar\"].apply(lambda x: x.group(1) if x else None)"
   ]
  },
  {
   "cell_type": "code",
   "execution_count": 127,
   "id": "d075ca7c",
   "metadata": {},
   "outputs": [],
   "source": [
    "df[\"Qavat\"] = df[\"infomation\"].astype(str).map(lambda x: re.search(r\"'Qavat', '(\\d+)'\", x))\n",
    "df[\"Qavat\"] = df[\"Qavat\"].apply(lambda x: x.group(1) if x else None)"
   ]
  },
  {
   "cell_type": "code",
   "execution_count": 128,
   "id": "c6522d00",
   "metadata": {},
   "outputs": [],
   "source": [
    "df[\"Jami qavatlar\"] = df[\"infomation\"].astype(str).map(lambda x: re.search(r\"'Jami qavatlar', '(\\d+)'\", x))\n",
    "df[\"Jami qavatlar\"] = df[\"Jami qavatlar\"].apply(lambda x: x.group(1) if x else None)"
   ]
  },
  {
   "cell_type": "code",
   "execution_count": 129,
   "id": "7057e4a6",
   "metadata": {},
   "outputs": [],
   "source": [
    "df[\"Maydoni\"] = df[\"infomation\"].astype(str).map(lambda x: re.search(r\"'Maydoni', '(\\d+) m²'\", x))\n",
    "df[\"Maydoni\"] = df[\"Maydoni\"].apply(lambda x: x.group(1) if x else None)"
   ]
  },
  {
   "cell_type": "code",
   "execution_count": 130,
   "id": "8592481e",
   "metadata": {},
   "outputs": [],
   "source": [
    "df[\"Yashash maydoni\"] = df[\"infomation\"].astype(str).map(lambda x: re.search(r\"'Yashash maydoni', '(\\d+) m²'\", x))\n",
    "df[\"Yashash maydoni\"] = df[\"Yashash maydoni\"].apply(lambda x: x.group(1) if x else None)"
   ]
  },
  {
   "cell_type": "code",
   "execution_count": 131,
   "id": "e58dd89f",
   "metadata": {},
   "outputs": [],
   "source": [
    "df[\"м² uchun narxi\"] = df[\"infomation\"].astype(str).map(lambda x: re.search(r\"'(\\d+ \\d+\\.\\d+)\\s+sh.b.\\s+/\\s+m²'|'(\\d+\\d+\\.\\d+)\\s+sh.b.\\s+/\\s+m²'\", x))\n",
    "df[\"м² uchun narxi\"] = df[\"м² uchun narxi\"].apply(lambda x: x.group(2 if x.group(2) else 1) if x else None)"
   ]
  },
  {
   "cell_type": "code",
   "execution_count": 132,
   "id": "2e89abe5",
   "metadata": {},
   "outputs": [],
   "source": [
    "df[\"Bino asosi\"] = df[\"infomation\"].astype(str).map(lambda x: re.search(r\"'Bino asosi', '(\\w+)'\", x))\n",
    "df[\"Bino asosi\"] = df[\"Bino asosi\"].apply(lambda x: x.group(1) if x else None)"
   ]
  },
  {
   "cell_type": "code",
   "execution_count": 133,
   "id": "72db4f3f",
   "metadata": {},
   "outputs": [],
   "source": [
    "df[\"Holati\"] = df[\"infomation\"].astype(str).map(lambda x: re.search(r\"'Holati', '(\\w+ \\w+)'|'Holati', '(\\w+)'\", x))\n",
    "df[\"Holati\"] = df[\"Holati\"].apply(lambda x: x.group(2 if x.group(2) else 1) if x else None)"
   ]
  },
  {
   "cell_type": "code",
   "execution_count": 134,
   "id": "68993bc8",
   "metadata": {},
   "outputs": [
    {
     "data": {
      "text/plain": [
       "307"
      ]
     },
     "execution_count": 134,
     "metadata": {},
     "output_type": "execute_result"
    }
   ],
   "source": [
    "sum(df[\"Holati\"].isnull())"
   ]
  },
  {
   "cell_type": "code",
   "execution_count": 135,
   "id": "341c77e5",
   "metadata": {},
   "outputs": [],
   "source": [
    "text = df['infomation'].map(lambda x: str(x))\n",
    "df['Xonalarga ajratilmagan'] = text.map(lambda x: 0 if ('Yoʻq' or 'yoʻq' or 'Yoq') in x else 1)"
   ]
  },
  {
   "cell_type": "code",
   "execution_count": 136,
   "id": "3359b628",
   "metadata": {},
   "outputs": [
    {
     "data": {
      "text/plain": [
       "Index(['linklar', 'infomation', 'qulaylik', 'joylashuv', 'sana', 'narxi',\n",
       "       'Xonalar', 'Xonalarga ajratilmagan', 'Qavat', 'Jami qavatlar',\n",
       "       'Maydoni', 'Yashash maydoni', 'м² uchun narxi', 'Holati', 'Bino asosi'],\n",
       "      dtype='object')"
      ]
     },
     "execution_count": 136,
     "metadata": {},
     "output_type": "execute_result"
    }
   ],
   "source": [
    "df.columns"
   ]
  },
  {
   "cell_type": "code",
   "execution_count": 139,
   "id": "4d93f4ec",
   "metadata": {},
   "outputs": [],
   "source": [
    "df1 = df.copy()"
   ]
  },
  {
   "cell_type": "code",
   "execution_count": 142,
   "id": "03793214",
   "metadata": {},
   "outputs": [
    {
     "name": "stderr",
     "output_type": "stream",
     "text": [
      "C:\\Users\\Makhmud\\AppData\\Local\\Temp\\ipykernel_11688\\2131414175.py:4: SettingWithCopyWarning: \n",
      "A value is trying to be set on a copy of a slice from a DataFrame\n",
      "\n",
      "See the caveats in the documentation: https://pandas.pydata.org/pandas-docs/stable/user_guide/indexing.html#returning-a-view-versus-a-copy\n",
      "  df1['qulaylik'][i] = result\n"
     ]
    }
   ],
   "source": [
    "for i in range(len(df1['qulaylik'])):\n",
    "    dict_list = json.loads(df1['qulaylik'][i])\n",
    "    result = [d['qulaylik'].split(':')[0] for d in dict_list]\n",
    "    df1['qulaylik'][i] = result     "
   ]
  },
  {
   "cell_type": "code",
   "execution_count": 161,
   "id": "6d3173e9",
   "metadata": {},
   "outputs": [],
   "source": [
    "text = df1['qulaylik'].map(lambda x: str(x))\n",
    "df1['Telefon tarmogʻi'] = text.map(lambda x: 1 if ('Telefon tarmogʻi' or 'Telefon tarmogi') in x else 0)"
   ]
  },
  {
   "cell_type": "code",
   "execution_count": 168,
   "id": "d53d08a3",
   "metadata": {},
   "outputs": [],
   "source": [
    "text = df1['qulaylik'].map(lambda x: str(x))\n",
    "df1['Qoʻriqlash'] = text.map(lambda x: 1 if ('Qoʻriqlash' or 'Qoriqlash') in x else 0)"
   ]
  },
  {
   "cell_type": "code",
   "execution_count": 170,
   "id": "b9e7f85c",
   "metadata": {},
   "outputs": [],
   "source": [
    "text = df1['qulaylik'].map(lambda x: str(x))\n",
    "df1['Lift'] = text.map(lambda x: 1 if ('Lift' or 'lift') in x else 0)"
   ]
  },
  {
   "cell_type": "code",
   "execution_count": 172,
   "id": "77f232a3",
   "metadata": {},
   "outputs": [],
   "source": [
    "text = df1['qulaylik'].map(lambda x: str(x))\n",
    "df1['Yuvinish xonasi boʻlak'] = text.map(lambda x: 1 if ('Yuvinish xonasi boʻlak' or 'Yuvinish xonasi bolak') in x else 0)"
   ]
  },
  {
   "cell_type": "code",
   "execution_count": 174,
   "id": "b4540848",
   "metadata": {},
   "outputs": [],
   "source": [
    "text = df1['qulaylik'].map(lambda x: str(x))\n",
    "df1['Televizor'] = text.map(lambda x: 1 if ('Televizor' or 'televizor') in x else 0)"
   ]
  },
  {
   "cell_type": "code",
   "execution_count": 176,
   "id": "52fe3292",
   "metadata": {},
   "outputs": [],
   "source": [
    "text = df1['qulaylik'].map(lambda x: str(x))\n",
    "df1['Internet'] = text.map(lambda x: 1 if ('Internet' or 'internet') in x else 0)"
   ]
  },
  {
   "cell_type": "code",
   "execution_count": 178,
   "id": "b90547ed",
   "metadata": {},
   "outputs": [],
   "source": [
    "text = df1['qulaylik'].map(lambda x: str(x))\n",
    "df1['Video kuzatuv'] = text.map(lambda x: 1 if ('Video kuzatuv' or 'video kuzatuv') in x else 0)"
   ]
  },
  {
   "cell_type": "code",
   "execution_count": 180,
   "id": "813f50ae",
   "metadata": {},
   "outputs": [],
   "source": [
    "text = df1['qulaylik'].map(lambda x: str(x))\n",
    "df1['Bolalar maydonchasi'] = text.map(lambda x: 1 if ('Bolalar maydonchasi' or 'bolalar maydonchasi') in x else 0)"
   ]
  },
  {
   "cell_type": "code",
   "execution_count": 184,
   "id": "c28691c7",
   "metadata": {},
   "outputs": [],
   "source": [
    "text = df1['qulaylik'].map(lambda x: str(x))\n",
    "df1['Sunʻiy yoʻldosh/kabel TV'] = text.map(lambda x: 1 if ('Sunʻiy yoʻldosh/kabel TV' or 'Suniy yoʻldosh/kabel TV' or 'Sunʻiy yoldosh/kabel TV') in x else 0)"
   ]
  },
  {
   "cell_type": "code",
   "execution_count": 186,
   "id": "a619509f",
   "metadata": {},
   "outputs": [],
   "source": [
    "text = df1['qulaylik'].map(lambda x: str(x))\n",
    "df1['Suv taʻminoti'] = text.map(lambda x: 1 if ('Suv taʻminoti' or 'Suv taminoti') in x else 0)"
   ]
  },
  {
   "cell_type": "code",
   "execution_count": 188,
   "id": "62242026",
   "metadata": {},
   "outputs": [],
   "source": [
    "text = df1['qulaylik'].map(lambda x: str(x))\n",
    "df1['Kanalizatsiya'] = text.map(lambda x: 1 if ('Kanalizatsiya' or 'Kanalizatsiya') in x else 0)"
   ]
  },
  {
   "cell_type": "code",
   "execution_count": 190,
   "id": "6688b0ef",
   "metadata": {},
   "outputs": [],
   "source": [
    "text = df1['qulaylik'].map(lambda x: str(x))\n",
    "df1['Gaz taʻminoti'] = text.map(lambda x: 1 if ('Gaz taʻminoti' or 'Gaz taminoti') in x else 0)"
   ]
  },
  {
   "cell_type": "code",
   "execution_count": 192,
   "id": "a7c2032c",
   "metadata": {},
   "outputs": [],
   "source": [
    "text = df1['qulaylik'].map(lambda x: str(x))\n",
    "df1['Avtoturargox'] = text.map(lambda x: 1 if ('Avtoturargox' or 'Avtoturargoh') in x else 0)"
   ]
  },
  {
   "cell_type": "code",
   "execution_count": 202,
   "id": "610744ca",
   "metadata": {},
   "outputs": [],
   "source": [
    "text = df1['qulaylik'].map(lambda x: str(x))\n",
    "df1['Havo muzlatgich'] = text.map(lambda x: 1 if ('Havo muzlatgich' or 'havo muzlatgich' or 'Konditsioner' or 'Kanditsioner') in x else 0)"
   ]
  },
  {
   "cell_type": "code",
   "execution_count": 212,
   "id": "4880e038",
   "metadata": {},
   "outputs": [],
   "source": [
    "text = df1['qulaylik'].map(lambda x: str(x))\n",
    "df1['Muzlatgich'] = text.map(lambda x: 1 if ('Muzlatgich' or 'muzlatgich' or 'Xolodilnik' or 'Holodilnik') in x else 0)"
   ]
  },
  {
   "cell_type": "code",
   "execution_count": 214,
   "id": "b55ef5aa",
   "metadata": {},
   "outputs": [],
   "source": [
    "text = df1['qulaylik'].map(lambda x: str(x))\n",
    "df1['Mebel'] = text.map(lambda x: 1 if ('Mebel' or 'mebel') in x else 0)"
   ]
  },
  {
   "cell_type": "code",
   "execution_count": 216,
   "id": "e3093b2c",
   "metadata": {},
   "outputs": [],
   "source": [
    "text = df1['qulaylik'].map(lambda x: str(x))\n",
    "df1['Kir yuvish mashinasi'] = text.map(lambda x: 1 if ('Kir yuvish mashinasi' or 'kir yuvish mashinasi') in x else 0)"
   ]
  },
  {
   "cell_type": "code",
   "execution_count": 218,
   "id": "404652c6",
   "metadata": {},
   "outputs": [],
   "source": [
    "text = df1['qulaylik'].map(lambda x: str(x))\n",
    "df1['Mikrotoʻlqinli pech'] = text.map(lambda x: 1 if ('Mikrotoʻlqinli pech' or 'Mikrotolqinli pech') in x else 0)"
   ]
  },
  {
   "cell_type": "code",
   "execution_count": 222,
   "id": "23043107",
   "metadata": {},
   "outputs": [],
   "source": [
    "df2 = df1.copy()"
   ]
  },
  {
   "cell_type": "code",
   "execution_count": 229,
   "id": "372c7a99",
   "metadata": {},
   "outputs": [
    {
     "name": "stderr",
     "output_type": "stream",
     "text": [
      "C:\\Users\\Makhmud\\AppData\\Local\\Temp\\ipykernel_11688\\120165684.py:4: SettingWithCopyWarning: \n",
      "A value is trying to be set on a copy of a slice from a DataFrame\n",
      "\n",
      "See the caveats in the documentation: https://pandas.pydata.org/pandas-docs/stable/user_guide/indexing.html#returning-a-view-versus-a-copy\n",
      "  df2['sana'][i] = result\n"
     ]
    }
   ],
   "source": [
    "for i in range(len(df2['sana'])):\n",
    "    dict_list = json.loads(df2['sana'][i])\n",
    "    result = [d['sana'].split(':')[0] for d in dict_list]\n",
    "    df2['sana'][i] = result  "
   ]
  },
  {
   "cell_type": "code",
   "execution_count": 238,
   "id": "ad486aef",
   "metadata": {},
   "outputs": [
    {
     "name": "stdout",
     "output_type": "stream",
     "text": [
      "['Qoʻshilgan sana', '2023-01-12 11', 'Yangilangan sana', '2023-02-01 11', 'Koʻrganlar soni', '4283']\n"
     ]
    }
   ],
   "source": [
    "print(df2['sana'][0])"
   ]
  },
  {
   "cell_type": "code",
   "execution_count": 236,
   "id": "ee5e1875",
   "metadata": {},
   "outputs": [],
   "source": [
    "df2[['Qoʻshilgan sana', 'Yangilangan sana', 'Koʻrganlar soni']]  = ''"
   ]
  },
  {
   "cell_type": "code",
   "execution_count": null,
   "id": "6c60d137",
   "metadata": {},
   "outputs": [],
   "source": [
    "df2['Koʻrganlar soni'] = df2[\"sana\"].astype(str).map(lambda x: re.search(r\"'Koʻrganlar soni', '(\\d+)'\", x))\n",
    "df2['Koʻrganlar soni'] = df2['Koʻrganlar soni'].apply(lambda x: x.group(1) if x else None)"
   ]
  },
  {
   "cell_type": "code",
   "execution_count": 241,
   "id": "9187bdfa",
   "metadata": {},
   "outputs": [],
   "source": [
    "df2['Qoʻshilgan sana'] = df2[\"sana\"].astype(str).map(lambda x: re.search(r\"'Qoʻshilgan sana', '(\\d{4}-\\d{2}-\\d{2})\", x))\n",
    "df2['Qoʻshilgan sana'] = df2['Qoʻshilgan sana'].apply(lambda x: x.group(1) if x else None)"
   ]
  },
  {
   "cell_type": "code",
   "execution_count": 243,
   "id": "ed29625c",
   "metadata": {},
   "outputs": [],
   "source": [
    "df2['Yangilangan sana'] = df2[\"sana\"].astype(str).map(lambda x: re.search(r\"'Yangilangan sana', '(\\d{4}-\\d{2}-\\d{2})\", x))\n",
    "df2['Yangilangan sana'] = df2['Yangilangan sana'].apply(lambda x: x.group(1) if x else None)"
   ]
  },
  {
   "cell_type": "code",
   "execution_count": 245,
   "id": "e6b36e99",
   "metadata": {},
   "outputs": [],
   "source": [
    "df3 = df2.copy()"
   ]
  },
  {
   "cell_type": "code",
   "execution_count": 248,
   "id": "5bb71f50",
   "metadata": {},
   "outputs": [
    {
     "data": {
      "text/plain": [
       "'[{\"joylashuv\":\"Школа\"},{\"joylashuv\":\"Средняя школа №102\\xa0Средняя школа №41\"},{\"joylashuv\":\"Кинотеатр\"},{\"joylashuv\":\"Guncha\"},{\"joylashuv\":\"Детский сад\"},{\"joylashuv\":\"Детский сад №140 \\\\\"Мехригиё гунчалари\\\\\"\\xa0Детский сад №445 \\\\\"Болалигим-подшолигим\\\\\"\"}]'"
      ]
     },
     "execution_count": 248,
     "metadata": {},
     "output_type": "execute_result"
    }
   ],
   "source": [
    "df3['joylashuv'][0]"
   ]
  },
  {
   "cell_type": "code",
   "execution_count": 249,
   "id": "25bbced6",
   "metadata": {},
   "outputs": [
    {
     "name": "stderr",
     "output_type": "stream",
     "text": [
      "C:\\Users\\Makhmud\\AppData\\Local\\Temp\\ipykernel_11688\\2554252799.py:4: SettingWithCopyWarning: \n",
      "A value is trying to be set on a copy of a slice from a DataFrame\n",
      "\n",
      "See the caveats in the documentation: https://pandas.pydata.org/pandas-docs/stable/user_guide/indexing.html#returning-a-view-versus-a-copy\n",
      "  df3['joylashuv'][i] = result\n"
     ]
    }
   ],
   "source": [
    "for i in range(len(df3['joylashuv'])):\n",
    "    dict_list = json.loads(df3['joylashuv'][i])\n",
    "    result = [d['joylashuv'].split(':')[0] for d in dict_list]\n",
    "    df3['joylashuv'][i] = result  "
   ]
  },
  {
   "cell_type": "code",
   "execution_count": 251,
   "id": "f4423860",
   "metadata": {},
   "outputs": [
    {
     "data": {
      "text/plain": [
       "['Школа',\n",
       " 'Средняя школа №102\\xa0Средняя школа №41',\n",
       " 'Кинотеатр',\n",
       " 'Guncha',\n",
       " 'Детский сад',\n",
       " 'Детский сад №140 \"Мехригиё гунчалари\"\\xa0Детский сад №445 \"Болалигим-подшолигим\"']"
      ]
     },
     "execution_count": 251,
     "metadata": {},
     "output_type": "execute_result"
    }
   ],
   "source": [
    "df3['joylashuv'][0]"
   ]
  },
  {
   "cell_type": "code",
   "execution_count": 253,
   "id": "0ee0da6c",
   "metadata": {},
   "outputs": [],
   "source": [
    "df3.to_csv('total_uybor.csv')"
   ]
  },
  {
   "cell_type": "code",
   "execution_count": 255,
   "id": "c0d6a616",
   "metadata": {},
   "outputs": [],
   "source": [
    "df3.drop(['infomation', 'qulaylik', 'sana'], axis = 1, inplace = True)"
   ]
  },
  {
   "cell_type": "code",
   "execution_count": 257,
   "id": "b942f697",
   "metadata": {},
   "outputs": [],
   "source": [
    "df3.to_csv('finall_uybor_uz.csv')"
   ]
  },
  {
   "cell_type": "code",
   "execution_count": 258,
   "id": "4e41f8da",
   "metadata": {},
   "outputs": [
    {
     "data": {
      "text/plain": [
       "4284"
      ]
     },
     "execution_count": 258,
     "metadata": {},
     "output_type": "execute_result"
    }
   ],
   "source": [
    "len(df3)"
   ]
  },
  {
   "cell_type": "code",
   "execution_count": 259,
   "id": "c9fc88c3",
   "metadata": {},
   "outputs": [],
   "source": [
    "df = pd.read_excel('food for ai.xlsx')"
   ]
  },
  {
   "cell_type": "code",
   "execution_count": 267,
   "id": "0c58b7f1",
   "metadata": {},
   "outputs": [
    {
     "data": {
      "text/plain": [
       "'00668 Оплата по договору № № 1/2255-2020 от 22.12.2020 оплата за сертификация баков расширительных-10 ед , клапанов -25 ед'"
      ]
     },
     "execution_count": 267,
     "metadata": {},
     "output_type": "execute_result"
    }
   ],
   "source": [
    "df['description 2021'][55]"
   ]
  },
  {
   "cell_type": "code",
   "execution_count": 263,
   "id": "acd35e19",
   "metadata": {},
   "outputs": [
    {
     "data": {
      "text/plain": [
       "764361"
      ]
     },
     "execution_count": 263,
     "metadata": {},
     "output_type": "execute_result"
    }
   ],
   "source": [
    "len(df)"
   ]
  },
  {
   "cell_type": "code",
   "execution_count": null,
   "id": "c784dc70",
   "metadata": {},
   "outputs": [],
   "source": []
  }
 ],
 "metadata": {
  "kernelspec": {
   "display_name": "hac",
   "language": "python",
   "name": "hac"
  },
  "language_info": {
   "codemirror_mode": {
    "name": "ipython",
    "version": 3
   },
   "file_extension": ".py",
   "mimetype": "text/x-python",
   "name": "python",
   "nbconvert_exporter": "python",
   "pygments_lexer": "ipython3",
   "version": "3.9.13"
  }
 },
 "nbformat": 4,
 "nbformat_minor": 5
}
