{
 "cells": [
  {
   "cell_type": "code",
   "execution_count": 17,
   "id": "18d25455",
   "metadata": {},
   "outputs": [],
   "source": [
    "from bs4 import BeautifulSoup\n",
    "import requests\n",
    "import pandas as pd \n",
    "\n",
    "import csv"
   ]
  },
  {
   "cell_type": "code",
   "execution_count": null,
   "id": "ca46ea23",
   "metadata": {},
   "outputs": [
    {
     "name": "stdout",
     "output_type": "stream",
     "text": [
      "Linkni kiriting>>> https://kun.uz/uz/news/category/jahon\n",
      "Dataframega nom bering:>>>jahon\n"
     ]
    }
   ],
   "source": [
    "big_url = input('Linkni kiriting>>> ')\n",
    "# n = int(input('Nechta sahifani olishni xohlaysiz?(har bir sahifada 30 ta yangilik bor)>>>'))\n",
    "name = input('Dataframega nom bering:>>>')\n",
    "header = ['title', 'description', 'content']\n",
    "\n",
    "def script(url):\n",
    "    html_text = requests.get(url).text\n",
    "    soup = BeautifulSoup(html_text, 'lxml')\n",
    "    title = soup.find('h1', class_=\"single-header__title\").text\n",
    "    \n",
    "    description = soup.find_all('h4')\n",
    "    c = ''\n",
    "    for desc in description:\n",
    "        c+=desc.text\n",
    "    \n",
    "    content = soup.find_all('p')\n",
    "    k = ''\n",
    "    for con in content:\n",
    "        k+=con.text\n",
    "        \n",
    "    writer.writerow([title, c, k])\n",
    "\n",
    "\n",
    "def page(big_url):\n",
    "    html_text = requests.get(big_url).text\n",
    "    soup = BeautifulSoup(html_text, 'lxml')\n",
    "    news = soup.find_all('a', class_ = \"news__title\")\n",
    "\n",
    "    for new in news:\n",
    "        url = f\"https://kun.uz{new['href']}\"\n",
    "        script(url)\n",
    "    return soup.find('a', class_ = \"load-more__link\")['href']\n",
    "\n",
    "with open(f\"{name}.csv\", 'a', newline='', encoding='utf-8') as f:\n",
    "    writer = csv.writer(f)\n",
    "    writer.writerow(header)\n",
    "    \n",
    "#     for i in range(n):\n",
    "    while big_url:\n",
    "        b = page(big_url)\n",
    "        big_url = f\"https://kun.uz{b}\""
   ]
  },
  {
   "cell_type": "code",
   "execution_count": null,
   "id": "e408b587",
   "metadata": {},
   "outputs": [],
   "source": [
    "data = pd.read_csv('jahon.csv')"
   ]
  },
  {
   "cell_type": "code",
   "execution_count": null,
   "id": "7c66a668",
   "metadata": {},
   "outputs": [],
   "source": []
  }
 ],
 "metadata": {
  "kernelspec": {
   "display_name": "tf",
   "language": "python",
   "name": "tf"
  },
  "language_info": {
   "codemirror_mode": {
    "name": "ipython",
    "version": 3
   },
   "file_extension": ".py",
   "mimetype": "text/x-python",
   "name": "python",
   "nbconvert_exporter": "python",
   "pygments_lexer": "ipython3",
   "version": "3.9.13"
  }
 },
 "nbformat": 4,
 "nbformat_minor": 5
}
