{
 "cells": [
  {
   "cell_type": "code",
   "execution_count": null,
   "id": "8e005268",
   "metadata": {},
   "outputs": [],
   "source": [
    "from bs4 import BeautifulSoup\n",
    "import requests\n",
    "import pandas as pd \n",
    "import csv\n",
    "import re"
   ]
  },
  {
   "cell_type": "code",
   "execution_count": null,
   "id": "c2087e05",
   "metadata": {},
   "outputs": [],
   "source": [
    "big_url = 'https://kun.uz/uz/news/category/tehnologia'\n",
    "def page(big_url):\n",
    "    html_text = requests.get(big_url).text\n",
    "    soup = BeautifulSoup(html_text, 'lxml')\n",
    "    news = soup.find_all('a', class_ = \"news__title\")\n",
    "\n",
    "    for new in news:\n",
    "        url = f\"https://kun.uz{new['href']}\"\n",
    "    try:\n",
    "        return soup.find('a', class_ = \"load-more__link\")['href']\n",
    "    except TypeError or gaierror:\n",
    "        pass \n",
    "    \n",
    "pages = []\n",
    "while big_url:\n",
    "    b = page(big_url)\n",
    "    big_url = f\"https://kun.uz{b}\"\n",
    "    print(big_url)\n",
    "    pages.append(big_url)"
   ]
  },
  {
   "cell_type": "code",
   "execution_count": null,
   "id": "23ea5d72",
   "metadata": {},
   "outputs": [],
   "source": [
    "# Writing Multiple Lines to a Text File\n",
    "with open('texnika.txt', 'w') as f:\n",
    "    for line in pages:\n",
    "        f.write(line)\n",
    "        f.write('\\n')"
   ]
  },
  {
   "cell_type": "code",
   "execution_count": null,
   "id": "c6da0179",
   "metadata": {},
   "outputs": [],
   "source": [
    "pages = []\n",
    "with open('texnika.txt') as f:\n",
    "    lines =  f.readlines()\n",
    "    for i in range(len(lines)):\n",
    "        pages.append(lines[i][0:-1])"
   ]
  },
  {
   "cell_type": "code",
   "execution_count": null,
   "id": "77c4bd12",
   "metadata": {},
   "outputs": [],
   "source": [
    "len(pages)"
   ]
  },
  {
   "cell_type": "code",
   "execution_count": null,
   "id": "d3df19fa",
   "metadata": {},
   "outputs": [],
   "source": []
  }
 ],
 "metadata": {
  "kernelspec": {
   "display_name": "tf",
   "language": "python",
   "name": "tf"
  },
  "language_info": {
   "codemirror_mode": {
    "name": "ipython",
    "version": 3
   },
   "file_extension": ".py",
   "mimetype": "text/x-python",
   "name": "python",
   "nbconvert_exporter": "python",
   "pygments_lexer": "ipython3",
   "version": "3.9.13"
  }
 },
 "nbformat": 4,
 "nbformat_minor": 5
}
